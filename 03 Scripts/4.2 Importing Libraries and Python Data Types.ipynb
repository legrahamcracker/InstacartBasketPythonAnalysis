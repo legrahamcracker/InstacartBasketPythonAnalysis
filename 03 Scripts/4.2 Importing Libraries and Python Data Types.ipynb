{
 "cells": [
  {
   "cell_type": "markdown",
   "id": "6e49fc94",
   "metadata": {},
   "source": [
    "# 01. Importing Libraries"
   ]
  },
  {
   "cell_type": "code",
   "execution_count": 1,
   "id": "81cda1d5",
   "metadata": {},
   "outputs": [],
   "source": [
    "# Import libraries\n",
    "import pandas as pd\n",
    "import numpy as np\n",
    "import os"
   ]
  },
  {
   "cell_type": "markdown",
   "id": "caef0c8b",
   "metadata": {},
   "source": [
    "# 02. Python Data Types"
   ]
  },
  {
   "cell_type": "code",
   "execution_count": 3,
   "id": "358e7864",
   "metadata": {},
   "outputs": [],
   "source": [
    "# Different ways to make 100\n",
    "x = 20\n",
    "y = 2.5\n",
    "z = 10"
   ]
  },
  {
   "cell_type": "code",
   "execution_count": 28,
   "id": "e8d03bd2",
   "metadata": {},
   "outputs": [],
   "source": [
    "hundred1 = x*(y+y)\n",
    "hundred2 = z+z+z+z+z+z+z+z+z+z\n",
    "hundred3 = x+z*8"
   ]
  },
  {
   "cell_type": "code",
   "execution_count": 29,
   "id": "acc78aa1",
   "metadata": {},
   "outputs": [
    {
     "name": "stdout",
     "output_type": "stream",
     "text": [
      "100.0\n",
      "100\n",
      "100\n"
     ]
    }
   ],
   "source": [
    "print(hundred1)\n",
    "print(hundred2)\n",
    "print(hundred3)"
   ]
  },
  {
   "cell_type": "code",
   "execution_count": 8,
   "id": "78ce0149",
   "metadata": {},
   "outputs": [],
   "source": [
    "# Divide floating point numbers\n",
    "p = 4.56\n",
    "q = 1.23"
   ]
  },
  {
   "cell_type": "code",
   "execution_count": 9,
   "id": "87d42913",
   "metadata": {},
   "outputs": [],
   "source": [
    "quotient = p/q"
   ]
  },
  {
   "cell_type": "code",
   "execution_count": 10,
   "id": "45d6bfd5",
   "metadata": {},
   "outputs": [
    {
     "name": "stdout",
     "output_type": "stream",
     "text": [
      "3.7073170731707314\n"
     ]
    }
   ],
   "source": [
    "print(quotient)"
   ]
  },
  {
   "cell_type": "code",
   "execution_count": 20,
   "id": "dce8ab86",
   "metadata": {},
   "outputs": [],
   "source": [
    "# Create a word phrase using multple singular words\n",
    "A = 'Importing Libraries'\n",
    "B = 'and '\n",
    "C = 'Python Data Types'\n",
    "D = '!'"
   ]
  },
  {
   "cell_type": "code",
   "execution_count": 21,
   "id": "1dfc7007",
   "metadata": {},
   "outputs": [],
   "source": [
    "Phrase = A+' '+B+C+D"
   ]
  },
  {
   "cell_type": "code",
   "execution_count": 22,
   "id": "af6b28d8",
   "metadata": {},
   "outputs": [
    {
     "name": "stdout",
     "output_type": "stream",
     "text": [
      "Importing Libraries and Python Data Types!\n"
     ]
    }
   ],
   "source": [
    "print(Phrase)"
   ]
  },
  {
   "cell_type": "code",
   "execution_count": 23,
   "id": "429c95eb",
   "metadata": {},
   "outputs": [],
   "source": [
    "E = 'I '\n",
    "F = 'am '\n",
    "G = 'learning '\n",
    "H = 'about '"
   ]
  },
  {
   "cell_type": "code",
   "execution_count": 24,
   "id": "9ce915cb",
   "metadata": {},
   "outputs": [],
   "source": [
    "Sen1 = E+F+G+H+A+D\n",
    "Sen2 = E+F+G+H+C+D"
   ]
  },
  {
   "cell_type": "code",
   "execution_count": 25,
   "id": "de9c1540",
   "metadata": {},
   "outputs": [
    {
     "name": "stdout",
     "output_type": "stream",
     "text": [
      "I am learning about Importing Libraries!\n",
      "I am learning about Python Data Types!\n"
     ]
    }
   ],
   "source": [
    "print(Sen1)\n",
    "print(Sen2)"
   ]
  }
 ],
 "metadata": {
  "kernelspec": {
   "display_name": "Python 3 (ipykernel)",
   "language": "python",
   "name": "python3"
  },
  "language_info": {
   "codemirror_mode": {
    "name": "ipython",
    "version": 3
   },
   "file_extension": ".py",
   "mimetype": "text/x-python",
   "name": "python",
   "nbconvert_exporter": "python",
   "pygments_lexer": "ipython3",
   "version": "3.11.3"
  }
 },
 "nbformat": 4,
 "nbformat_minor": 5
}
