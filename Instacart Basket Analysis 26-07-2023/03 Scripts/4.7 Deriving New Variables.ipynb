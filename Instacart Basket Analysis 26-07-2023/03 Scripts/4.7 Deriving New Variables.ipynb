{
 "cells": [
  {
   "cell_type": "markdown",
   "id": "25278d7e",
   "metadata": {},
   "source": [
    "# 4.7 Deriving New Variables\n",
    "## 4.7.0 Initialization\n",
    "## 4.7.1 Path Setup and Import \n",
    "## 4.7.2 Function Definition\n",
    "## 4.7.3 Apply Function to Data Frame\n",
    "## 4.7.4 Using loc()\n",
    "## 4.7.5 Using For-loops\n",
    "## 4.7.6 Deriving New Variables Task\n",
    "### 4.7.6.1 Busiest hour of the day for-loop"
   ]
  },
  {
   "cell_type": "markdown",
   "id": "331a5860",
   "metadata": {},
   "source": [
    "## 4.7.0 Initialization"
   ]
  },
  {
   "cell_type": "code",
   "execution_count": null,
   "id": "ffd7d2e7",
   "metadata": {},
   "outputs": [],
   "source": [
    "import pandas as pd\n",
    "import numpy as np\n",
    "import os"
   ]
  },
  {
   "cell_type": "markdown",
   "id": "958aca4e",
   "metadata": {},
   "source": [
    "## 4.7.1 Path Setup and Import "
   ]
  },
  {
   "cell_type": "code",
   "execution_count": null,
   "id": "f1e7b029",
   "metadata": {},
   "outputs": [],
   "source": [
    "path = '/Users/matthewmacbook/Documents/CareerFoundry/Data Immersion/Achievement 4 - Python Fundamentals for Data Analysts/Instacart Basket Analysis 26-07-2023'"
   ]
  },
  {
   "cell_type": "code",
   "execution_count": null,
   "id": "d8b9c047",
   "metadata": {},
   "outputs": [],
   "source": [
    "ords_prods_merge = pd.read_pickle(os.path.join(path, '02 Data', 'Prepared Data', 'orders_products_merged.pkl'))"
   ]
  },
  {
   "cell_type": "code",
   "execution_count": null,
   "id": "7d893ee1",
   "metadata": {},
   "outputs": [],
   "source": [
    "df = ords_prods_merge[:1000000]"
   ]
  },
  {
   "cell_type": "markdown",
   "id": "8ff2fcf5",
   "metadata": {},
   "source": [
    "## 4.7.2 Function Definition"
   ]
  },
  {
   "cell_type": "code",
   "execution_count": null,
   "id": "7866505e",
   "metadata": {},
   "outputs": [],
   "source": [
    "# create a function that returns a string related to the price of a product\n",
    "def price_label(row):\n",
    "\n",
    "  if row['prices'] <= 5:\n",
    "    return 'Low-range product'\n",
    "  elif (row['prices'] > 5) and (row['prices'] <= 15):\n",
    "    return 'Mid-range product'\n",
    "  elif row['prices'] > 15:\n",
    "    return 'High-range product'\n",
    "  else: return 'Not enough data'"
   ]
  },
  {
   "cell_type": "markdown",
   "id": "9dd988da",
   "metadata": {},
   "source": [
    "## 4.7.3 Apply Function to Data Frame"
   ]
  },
  {
   "cell_type": "code",
   "execution_count": null,
   "id": "cfaeec84",
   "metadata": {
    "scrolled": true
   },
   "outputs": [],
   "source": [
    "# apply function onto the data frame. \n",
    "# warning message about using function on the dataframe \n",
    "# loc() is recommended instead\n",
    "\n",
    "df['price_range'] = df.apply(price_label, axis=1)"
   ]
  },
  {
   "cell_type": "code",
   "execution_count": null,
   "id": "54d93d14",
   "metadata": {},
   "outputs": [],
   "source": [
    "# check frequency\n",
    "df['price_range'].value_counts(dropna = False)"
   ]
  },
  {
   "cell_type": "code",
   "execution_count": null,
   "id": "d0033622",
   "metadata": {},
   "outputs": [],
   "source": [
    "# there were no high-range products\n",
    "# see that the max price is just below the cutoff for high-range products\n",
    "df['prices'].max()"
   ]
  },
  {
   "cell_type": "markdown",
   "id": "97d3f8cd",
   "metadata": {},
   "source": [
    "## 4.7.4 Using loc()"
   ]
  },
  {
   "cell_type": "code",
   "execution_count": null,
   "id": "72e1a0db",
   "metadata": {},
   "outputs": [],
   "source": [
    "# using loc() to see how it differs from the user-defined function\n",
    "\n",
    "df.loc[df['prices'] > 15, 'price_range_loc'] = 'High-range product'"
   ]
  },
  {
   "cell_type": "code",
   "execution_count": null,
   "id": "957b1297",
   "metadata": {},
   "outputs": [],
   "source": [
    "df.loc[(df['prices'] <= 15) & (df['prices'] > 5), 'price_range_loc'] = 'Mid-range product'"
   ]
  },
  {
   "cell_type": "code",
   "execution_count": null,
   "id": "170af8aa",
   "metadata": {},
   "outputs": [],
   "source": [
    "df.loc[df['prices'] <= 5, 'price_range_loc'] = 'Low-range product'"
   ]
  },
  {
   "cell_type": "code",
   "execution_count": null,
   "id": "6bbf0419",
   "metadata": {
    "scrolled": true
   },
   "outputs": [],
   "source": [
    "# same results from using loc() as the user-defined function\n",
    "\n",
    "df['price_range_loc'].value_counts(dropna = False)"
   ]
  },
  {
   "cell_type": "markdown",
   "id": "7e4c4de7",
   "metadata": {},
   "source": [
    "## 4.7.5 Using For-Loops"
   ]
  },
  {
   "cell_type": "code",
   "execution_count": null,
   "id": "c1714375",
   "metadata": {},
   "outputs": [],
   "source": [
    "# use For-loop to determine the busiest and least busy day for ordering groceries according to the data\n",
    "# first need to determine what days are the busiest and least busy\n",
    "\n",
    "ords_prods_merge['orders_day_of_week'].value_counts(dropna = False)"
   ]
  },
  {
   "cell_type": "code",
   "execution_count": null,
   "id": "c4c7f1c7",
   "metadata": {},
   "outputs": [],
   "source": [
    "# creation of the for-loop with an intial empty list created first\n",
    "\n",
    "result = []\n",
    "\n",
    "# for each value within the column 'orders_day_of_week', the value is compared within a series of if-else statements\n",
    "# the results of which is placed into the 'result' list\n",
    "\n",
    "for value in ords_prods_merge[\"orders_day_of_week\"]:\n",
    "  if value == 0:\n",
    "    result.append(\"Busiest day\")\n",
    "  elif value == 4:\n",
    "    result.append(\"Least busy\")\n",
    "  else:\n",
    "    result.append(\"Regularly busy\")"
   ]
  },
  {
   "cell_type": "code",
   "execution_count": null,
   "id": "3d89105f",
   "metadata": {},
   "outputs": [],
   "source": [
    "# append result list onto the data frame\n",
    "\n",
    "ords_prods_merge['busiest_day'] = result"
   ]
  },
  {
   "cell_type": "code",
   "execution_count": null,
   "id": "6dbba0dd",
   "metadata": {},
   "outputs": [],
   "source": [
    "# check frequency of newly added column\n",
    "\n",
    "ords_prods_merge['busiest_day'].value_counts(dropna = False)"
   ]
  },
  {
   "cell_type": "markdown",
   "id": "9b603b38",
   "metadata": {},
   "source": [
    "## 4.7.6 Deriving New Variables Task"
   ]
  },
  {
   "cell_type": "code",
   "execution_count": null,
   "id": "375d0904",
   "metadata": {},
   "outputs": [],
   "source": [
    "# creating new for-loop so that we can find busiest 2 days and least busy 2 days\n",
    "\n",
    "new_result = []\n",
    "\n",
    "for value in ords_prods_merge[\"orders_day_of_week\"]:\n",
    "  if value == 0 or value == 1:\n",
    "    new_result.append(\"Busiest days\")\n",
    "  elif value == 4 or value == 3:\n",
    "    new_result.append(\"Least busy\")\n",
    "  else:\n",
    "    new_result.append(\"Regularly busy\")"
   ]
  },
  {
   "cell_type": "code",
   "execution_count": null,
   "id": "deb96758",
   "metadata": {},
   "outputs": [],
   "source": [
    "ords_prods_merge['busiest_days'] = new_result"
   ]
  },
  {
   "cell_type": "code",
   "execution_count": null,
   "id": "c6ddba99",
   "metadata": {},
   "outputs": [],
   "source": [
    "ords_prods_merge.head()"
   ]
  },
  {
   "cell_type": "code",
   "execution_count": null,
   "id": "ee2c7b79",
   "metadata": {
    "scrolled": true
   },
   "outputs": [],
   "source": [
    "ords_prods_merge['busiest_days'].value_counts(dropna = False)"
   ]
  },
  {
   "cell_type": "markdown",
   "id": "6f817ebd",
   "metadata": {},
   "source": [
    "### 4.7.6.1 Busiest hour of the day for-loop"
   ]
  },
  {
   "cell_type": "code",
   "execution_count": null,
   "id": "fa89dc2b",
   "metadata": {},
   "outputs": [],
   "source": [
    "# check frequency of orders by hour of day\n",
    "\n",
    "ords_prods_merge['order_hour_of_day'].value_counts(dropna = False)"
   ]
  },
  {
   "cell_type": "markdown",
   "id": "357ab2fb",
   "metadata": {},
   "source": [
    "Cut the above list into 3 sections with 8 items in each.\n",
    "\n",
    "Top section: 'Most orders' [10, 11, 14, 15, 13, 12, 16, 9]\n",
    "\n",
    "Middle section: 'Average orders' [17, 8, 18, 19, 20, 7, 21, 22]\n",
    "\n",
    "Bottom section: 'Least orders' [23, 6, 0, 1, 5, 2, 4, 3]"
   ]
  },
  {
   "cell_type": "code",
   "execution_count": 27,
   "id": "a7e59f9a",
   "metadata": {},
   "outputs": [],
   "source": [
    "# create new for-loop using 'in' to check if value is within a specific set of values\n",
    "\n",
    "hour_result = []\n",
    "\n",
    "for value in ords_prods_merge[\"order_hour_of_day\"]:\n",
    "  if value in [10, 11, 14, 15, 13, 12, 16, 9]:\n",
    "    hour_result.append(\"Most orders\")\n",
    "  elif value in [17, 8, 18, 19, 20, 7, 21, 22]:\n",
    "    hour_result.append(\"Average orders\")\n",
    "  else:\n",
    "    hour_result.append(\"Least orders\")"
   ]
  },
  {
   "cell_type": "code",
   "execution_count": 28,
   "id": "1c894a2b",
   "metadata": {},
   "outputs": [],
   "source": [
    "ords_prods_merge['busiest_period_of_day'] = hour_result"
   ]
  },
  {
   "cell_type": "code",
   "execution_count": 29,
   "id": "efec0630",
   "metadata": {},
   "outputs": [
    {
     "data": {
      "text/html": [
       "<div>\n",
       "<style scoped>\n",
       "    .dataframe tbody tr th:only-of-type {\n",
       "        vertical-align: middle;\n",
       "    }\n",
       "\n",
       "    .dataframe tbody tr th {\n",
       "        vertical-align: top;\n",
       "    }\n",
       "\n",
       "    .dataframe thead th {\n",
       "        text-align: right;\n",
       "    }\n",
       "</style>\n",
       "<table border=\"1\" class=\"dataframe\">\n",
       "  <thead>\n",
       "    <tr style=\"text-align: right;\">\n",
       "      <th></th>\n",
       "      <th>order_id</th>\n",
       "      <th>user_id</th>\n",
       "      <th>order_number</th>\n",
       "      <th>orders_day_of_week</th>\n",
       "      <th>order_hour_of_day</th>\n",
       "      <th>days_since_prior_order</th>\n",
       "      <th>first_order</th>\n",
       "      <th>product_id</th>\n",
       "      <th>add_to_cart_order</th>\n",
       "      <th>reordered</th>\n",
       "      <th>product_name</th>\n",
       "      <th>aisle_id</th>\n",
       "      <th>department_id</th>\n",
       "      <th>prices</th>\n",
       "      <th>_merge</th>\n",
       "      <th>busiest_day</th>\n",
       "      <th>busiest_days</th>\n",
       "      <th>busiest_period_of_day</th>\n",
       "    </tr>\n",
       "  </thead>\n",
       "  <tbody>\n",
       "    <tr>\n",
       "      <th>0</th>\n",
       "      <td>2539329</td>\n",
       "      <td>1</td>\n",
       "      <td>1</td>\n",
       "      <td>2</td>\n",
       "      <td>8</td>\n",
       "      <td>NaN</td>\n",
       "      <td>True</td>\n",
       "      <td>196</td>\n",
       "      <td>1</td>\n",
       "      <td>0</td>\n",
       "      <td>Soda</td>\n",
       "      <td>77</td>\n",
       "      <td>7</td>\n",
       "      <td>9.0</td>\n",
       "      <td>both</td>\n",
       "      <td>Regularly busy</td>\n",
       "      <td>Regularly busy</td>\n",
       "      <td>Average orders</td>\n",
       "    </tr>\n",
       "    <tr>\n",
       "      <th>1</th>\n",
       "      <td>2398795</td>\n",
       "      <td>1</td>\n",
       "      <td>2</td>\n",
       "      <td>3</td>\n",
       "      <td>7</td>\n",
       "      <td>15.0</td>\n",
       "      <td>False</td>\n",
       "      <td>196</td>\n",
       "      <td>1</td>\n",
       "      <td>1</td>\n",
       "      <td>Soda</td>\n",
       "      <td>77</td>\n",
       "      <td>7</td>\n",
       "      <td>9.0</td>\n",
       "      <td>both</td>\n",
       "      <td>Regularly busy</td>\n",
       "      <td>Least busy</td>\n",
       "      <td>Average orders</td>\n",
       "    </tr>\n",
       "    <tr>\n",
       "      <th>2</th>\n",
       "      <td>473747</td>\n",
       "      <td>1</td>\n",
       "      <td>3</td>\n",
       "      <td>3</td>\n",
       "      <td>12</td>\n",
       "      <td>21.0</td>\n",
       "      <td>False</td>\n",
       "      <td>196</td>\n",
       "      <td>1</td>\n",
       "      <td>1</td>\n",
       "      <td>Soda</td>\n",
       "      <td>77</td>\n",
       "      <td>7</td>\n",
       "      <td>9.0</td>\n",
       "      <td>both</td>\n",
       "      <td>Regularly busy</td>\n",
       "      <td>Least busy</td>\n",
       "      <td>Most orders</td>\n",
       "    </tr>\n",
       "    <tr>\n",
       "      <th>3</th>\n",
       "      <td>2254736</td>\n",
       "      <td>1</td>\n",
       "      <td>4</td>\n",
       "      <td>4</td>\n",
       "      <td>7</td>\n",
       "      <td>29.0</td>\n",
       "      <td>False</td>\n",
       "      <td>196</td>\n",
       "      <td>1</td>\n",
       "      <td>1</td>\n",
       "      <td>Soda</td>\n",
       "      <td>77</td>\n",
       "      <td>7</td>\n",
       "      <td>9.0</td>\n",
       "      <td>both</td>\n",
       "      <td>Least busy</td>\n",
       "      <td>Least busy</td>\n",
       "      <td>Average orders</td>\n",
       "    </tr>\n",
       "    <tr>\n",
       "      <th>4</th>\n",
       "      <td>431534</td>\n",
       "      <td>1</td>\n",
       "      <td>5</td>\n",
       "      <td>4</td>\n",
       "      <td>15</td>\n",
       "      <td>28.0</td>\n",
       "      <td>False</td>\n",
       "      <td>196</td>\n",
       "      <td>1</td>\n",
       "      <td>1</td>\n",
       "      <td>Soda</td>\n",
       "      <td>77</td>\n",
       "      <td>7</td>\n",
       "      <td>9.0</td>\n",
       "      <td>both</td>\n",
       "      <td>Least busy</td>\n",
       "      <td>Least busy</td>\n",
       "      <td>Most orders</td>\n",
       "    </tr>\n",
       "  </tbody>\n",
       "</table>\n",
       "</div>"
      ],
      "text/plain": [
       "   order_id  user_id  order_number  orders_day_of_week  order_hour_of_day  \\\n",
       "0   2539329        1             1                   2                  8   \n",
       "1   2398795        1             2                   3                  7   \n",
       "2    473747        1             3                   3                 12   \n",
       "3   2254736        1             4                   4                  7   \n",
       "4    431534        1             5                   4                 15   \n",
       "\n",
       "   days_since_prior_order  first_order  product_id  add_to_cart_order  \\\n",
       "0                     NaN         True         196                  1   \n",
       "1                    15.0        False         196                  1   \n",
       "2                    21.0        False         196                  1   \n",
       "3                    29.0        False         196                  1   \n",
       "4                    28.0        False         196                  1   \n",
       "\n",
       "   reordered product_name  aisle_id  department_id  prices _merge  \\\n",
       "0          0         Soda        77              7     9.0   both   \n",
       "1          1         Soda        77              7     9.0   both   \n",
       "2          1         Soda        77              7     9.0   both   \n",
       "3          1         Soda        77              7     9.0   both   \n",
       "4          1         Soda        77              7     9.0   both   \n",
       "\n",
       "      busiest_day    busiest_days busiest_period_of_day  \n",
       "0  Regularly busy  Regularly busy        Average orders  \n",
       "1  Regularly busy      Least busy        Average orders  \n",
       "2  Regularly busy      Least busy           Most orders  \n",
       "3      Least busy      Least busy        Average orders  \n",
       "4      Least busy      Least busy           Most orders  "
      ]
     },
     "execution_count": 29,
     "metadata": {},
     "output_type": "execute_result"
    }
   ],
   "source": [
    "ords_prods_merge.head()"
   ]
  },
  {
   "cell_type": "code",
   "execution_count": 30,
   "id": "f1af4725",
   "metadata": {},
   "outputs": [
    {
     "data": {
      "text/plain": [
       "Most orders       21118071\n",
       "Average orders     9997651\n",
       "Least orders       1289137\n",
       "Name: busiest_period_of_day, dtype: int64"
      ]
     },
     "execution_count": 30,
     "metadata": {},
     "output_type": "execute_result"
    }
   ],
   "source": [
    "# check frequencies\n",
    "ords_prods_merge['busiest_period_of_day'].value_counts(dropna = False)"
   ]
  },
  {
   "cell_type": "code",
   "execution_count": 31,
   "id": "42829051",
   "metadata": {},
   "outputs": [],
   "source": [
    "# export newly merged data frame with 'busy' variables as pkl file\n",
    "\n",
    "\n",
    "ords_prods_merge.to_pickle(os.path.join(path, '02 Data','Prepared Data', 'orders_products_merged_busy.pkl'))"
   ]
  },
  {
   "cell_type": "code",
   "execution_count": null,
   "id": "fac8ebdb",
   "metadata": {},
   "outputs": [],
   "source": []
  }
 ],
 "metadata": {
  "kernelspec": {
   "display_name": "Python 3 (ipykernel)",
   "language": "python",
   "name": "python3"
  },
  "language_info": {
   "codemirror_mode": {
    "name": "ipython",
    "version": 3
   },
   "file_extension": ".py",
   "mimetype": "text/x-python",
   "name": "python",
   "nbconvert_exporter": "python",
   "pygments_lexer": "ipython3",
   "version": "3.11.3"
  }
 },
 "nbformat": 4,
 "nbformat_minor": 5
}
